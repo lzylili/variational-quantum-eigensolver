{
  "nbformat": 4,
  "nbformat_minor": 0,
  "metadata": {
    "colab": {
      "name": "VQE H2.ipynb",
      "provenance": [],
      "collapsed_sections": [],
      "include_colab_link": true
    },
    "kernelspec": {
      "name": "python3",
      "display_name": "Python 3"
    }
  },
  "cells": [
    {
      "cell_type": "markdown",
      "metadata": {
        "id": "view-in-github",
        "colab_type": "text"
      },
      "source": [
        "<a href=\"https://colab.research.google.com/github/lzylili/variational-quantum-eigensolver/blob/master/VQE_H2.ipynb\" target=\"_parent\"><img src=\"https://colab.research.google.com/assets/colab-badge.svg\" alt=\"Open In Colab\"/></a>"
      ]
    },
    {
      "cell_type": "markdown",
      "metadata": {
        "id": "HkwKs-XUyx3_",
        "colab_type": "text"
      },
      "source": [
        "# The Variational Quantum Eigensolver for H2 Molecule\n",
        "The **Variational Quantum Eigensolver (VQE)** is a hybrid quantum-classical algorithm that finds the smallest eigenvalue (and corresponding eigenvector) of a given Hamiltonian. For our purposes, we'll be applying this algorithm to a chemistry problem, wherein we need to be find the ground energy state of a H2 molecule. *One of its most promising applications lie in quantum chemistry.*  \n",
        "\n",
        "When we scale the complexity of the chemistry problem (and scale the number of qubits we're using), we can apply this algorithm to problems in drug discovery and computatonal biology like protein folding and molecular docking. Of course, the algorithm would be exponentially more complex. This would mean that our hardware also needs to scale (and we're not there yet). Nonetheless, *this is still an extremely exciting field in quantum computing, so here goes!*\n"
      ]
    },
    {
      "cell_type": "markdown",
      "metadata": {
        "id": "iqqldXFRI744",
        "colab_type": "text"
      },
      "source": [
        "Before we start, make sure to install the necessary libraries / packages (we'll be using IBM's Qiskit platform for most of the functions and the PyQuante driver, which can be cloned from its github repository)."
      ]
    },
    {
      "cell_type": "code",
      "metadata": {
        "id": "dnUJht6InikR",
        "colab_type": "code",
        "colab": {
          "base_uri": "https://localhost:8080/",
          "height": 966
        },
        "outputId": "4d124cb5-c200-4dd1-e311-8e445200ff7c"
      },
      "source": [
        "!pip install qiskit\n",
        "!git clone https://github.com/rpmuller/pyquante2.git"
      ],
      "execution_count": 8,
      "outputs": [
        {
          "output_type": "stream",
          "text": [
            
          ],
          "name": "stdout"
        }
      ]
    },
    {
      "cell_type": "markdown",
      "metadata": {
        "id": "GuMbekCGFbD7",
        "colab_type": "text"
      },
      "source": [
        "**Step 1**: import all the necessary repositories from qiskit aqua and chemistry."
      ]
    },
    {
      "cell_type": "code",
      "metadata": {
        "id": "FOqoLoYBu-fg",
        "colab_type": "code",
        "colab": {}
      },
      "source": [
        "import numpy as np\n",
        "import pylab\n",
        "import copy\n",
        "from qiskit import BasicAer\n",
        "from qiskit.aqua import aqua_globals, QuantumInstance\n",
        "from qiskit.aqua.algorithms import ExactEigensolver, VQE\n",
        "from qiskit.aqua.components.optimizers import COBYLA\n",
        "from qiskit.chemistry.aqua_extensions.components.initial_states import HartreeFock\n",
        "from qiskit.chemistry.aqua_extensions.components.variational_forms import UCCSD\n",
        "from qiskit.chemistry.drivers import PySCFDriver\n",
        "from qiskit.chemistry.core import Hamiltonian, QubitMappingType"
      ],
      "execution_count": 0,
      "outputs": []
    },
    {
      "cell_type": "markdown",
      "metadata": {
        "id": "8TPOOVgyGE3c",
        "colab_type": "text"
      },
      "source": [
        "**Step 2**: Define the molecule and configure the interatomic distance (starting point and range) "
      ]
    },
    {
      "cell_type": "code",
      "metadata": {
        "id": "VoZrlKkXESrX",
        "colab_type": "code",
        "colab": {}
      },
      "source": [
        "molecule = 'H .0 .0 -{0}; H .0 .0 {0}'\n",
        "algorithms = ['VQE', 'ExactEigensolver']\n",
        "\n",
        "start = 0.5  # Start distance\n",
        "by    = 0.5  # How much to increase distance by\n",
        "steps = 23   # Number of steps to increase by\n",
        "energies = np.empty([len(algorithms), steps+1])\n",
        "hf_energies = np.empty(steps+1)\n",
        "distances = np.empty(steps+1)\n",
        "eval_counts = np.empty(steps+1)"
      ],
      "execution_count": 0,
      "outputs": []
    },
    {
      "cell_type": "markdown",
      "metadata": {
        "id": "K5yXRwhlKsHi",
        "colab_type": "text"
      },
      "source": [
        "**Step 3**: Define the VQE algorithm (we'll want to use the exact eigensolver too in order to compare the accuracy of the VQE with) and run it on IBM's backend simulator. Print the calculated results. "
      ]
    },
    {
      "cell_type": "code",
      "metadata": {
        "id": "KLA3656XzEtg",
        "colab_type": "code",
        "colab": {
          "base_uri": "https://localhost:8080/",
          "height": 338
        },
        "outputId": "f659a001-9866-4c43-eea0-23aba4114d02"
      },
      "source": [
        "print('Processing step __', end='')\n",
        "for i in range(steps+1):\n",
        "    print('\\b\\b{:2d}'.format(i), end='', flush=True)\n",
        "    d = start + i*by/steps \n",
        "\n",
        "    # set a loop to run the algorithm as many times as necessary to go through all the iterations (in interatomic distance) specified in step 1\n",
        "    for j in range(len(algorithms)):\n",
        "        driver = PySCFDriver(molecule.format(d/2), basis='sto3g')\n",
        "        qmolecule = driver.run()\n",
        "        operator =  Hamiltonian(qubit_mapping=QubitMappingType.JORDAN_WIGNER,\n",
        "                                two_qubit_reduction=False)\n",
        "        qubit_op, aux_ops = operator.run(qmolecule)\n",
        "        \n",
        "        # run the exact eigensolver in order to create a benchmark to compare VQE values with at the end of the experiment\n",
        "        if algorithms[j] == 'ExactEigensolver':\n",
        "            result = ExactEigensolver(qubit_op).run()\n",
        "        else: #otherwise, run the VQE (has 3 components: the optimizer, the initial state, and the variational form)\n",
        "            optimizer = COBYLA(maxiter=10000)\n",
        "            initial_state = HartreeFock(qubit_op.num_qubits,\n",
        "                                        operator.molecule_info['num_orbitals'],\n",
        "                                        operator.molecule_info['num_particles'],\n",
        "                                        qubit_mapping=operator._qubit_mapping,\n",
        "                                        two_qubit_reduction=operator._two_qubit_reduction)\n",
        "            var_form = UCCSD(qubit_op.num_qubits, depth=1,\n",
        "                            num_orbitals=operator.molecule_info['num_orbitals'],\n",
        "                            num_particles=operator.molecule_info['num_particles'],\n",
        "                            initial_state=initial_state,\n",
        "                            qubit_mapping=operator._qubit_mapping,\n",
        "                            two_qubit_reduction=operator._two_qubit_reduction)\n",
        "            algo = VQE(qubit_op, var_form, optimizer)\n",
        "\n",
        "            # initialize and run on backend quantum simulator and store the calculated values in variable 'result'\n",
        "            result = algo.run(QuantumInstance(BasicAer.get_backend('statevector_simulator'))) \n",
        "\n",
        "        # define the variables for our results and print them\n",
        "        lines, result = operator.process_algorithm_result(result)\n",
        "        energies[j][i] = result['energy']\n",
        "        hf_energies[i] = result['hf_energy']\n",
        "        if algorithms[j] == 'VQE':\n",
        "            eval_counts[i] = result['algorithm_retvals']['eval_count']\n",
        "    distances[i] = d\n",
        "print(' --- complete')\n",
        "\n",
        "print('Distances: ', distances) #interatmomic distance\n",
        "print('Energies:', energies) # ground state energy calculated by the exact eigensolver and the VQE\n",
        "print('Hartree-Fock energies:', hf_energies) # energies calculated by the Hartree Fock algorithm\n",
        "print('VQE num evaluations:', eval_counts)"
      ],
      "execution_count": 31,
      "outputs": [
        {
          "output_type": "stream",
          "text": [
            "Processing step __\b\b 0\b\b 1\b\b 2\b\b 3\b\b 4\b\b 5\b\b 6\b\b 7\b\b 8\b\b 9\b\b10\b\b11\b\b12\b\b13\b\b14\b\b15\b\b16\b\b17\b\b18\b\b19\b\b20\b\b21\b\b22\b\b23 --- complete\n",
            "Distances:  [0.5        0.52173913 0.54347826 0.56521739 0.58695652 0.60869565\n",
            " 0.63043478 0.65217391 0.67391304 0.69565217 0.7173913  0.73913043\n",
            " 0.76086957 0.7826087  0.80434783 0.82608696 0.84782609 0.86956522\n",
            " 0.89130435 0.91304348 0.93478261 0.95652174 0.97826087 1.        ]\n",
            "Energies: [[-1.05515977 -1.07344995 -1.08862234 -1.10109216 -1.11121301 -1.11928813\n",
            "  -1.12557945 -1.13031403 -1.13368986 -1.13588003 -1.13703598 -1.13729068\n",
            "  -1.13676067 -1.13554825 -1.13374316 -1.13142414 -1.12866032 -1.12551235\n",
            "  -1.12203364 -1.11827121 -1.11426669 -1.11005699 -1.10567502 -1.10115032]\n",
            " [-1.05515979 -1.07344997 -1.08862236 -1.10109218 -1.11121303 -1.11928818\n",
            "  -1.12557946 -1.13031404 -1.13368989 -1.13588003 -1.13703601 -1.13729069\n",
            "  -1.13676068 -1.13554825 -1.13374316 -1.13142415 -1.12866032 -1.12551236\n",
            "  -1.12203365 -1.11827123 -1.1142667  -1.11005699 -1.10567503 -1.10115033]]\n",
            "Hartree-Fock energies: [-1.04299627 -1.06069042 -1.07523689 -1.08705022 -1.09648327 -1.1038386\n",
            " -1.10937726 -1.11332565 -1.11588089 -1.11721511 -1.11747891 -1.11680414\n",
            " -1.11530625 -1.11308635 -1.11023288 -1.10682319 -1.10292491 -1.09859715\n",
            " -1.09389166 -1.08885376 -1.08352332 -1.07793547 -1.07212134 -1.06610865]\n",
            "VQE num evaluations: [51. 50. 50. 52. 52. 46. 51. 49. 50. 54. 49. 45. 47. 51. 41. 51. 46. 45.\n",
            " 44. 48. 50. 50. 51. 55.]\n"
          ],
          "name": "stdout"
        }
      ]
    },
    {
      "cell_type": "markdown",
      "metadata": {
        "id": "Z9G6vtTNLSsS",
        "colab_type": "text"
      },
      "source": [
        "**Step 4**: Graph out the results using pylab (note: we can't see the line for VQE because it overlaps with the line for the exact eigensolver)"
      ]
    },
    {
      "cell_type": "code",
      "metadata": {
        "id": "oJutA-TNFkoJ",
        "colab_type": "code",
        "colab": {
          "base_uri": "https://localhost:8080/",
          "height": 295
        },
        "outputId": "c4d9c336-aa48-46ef-8f72-82cd64cb7ce2"
      },
      "source": [
        "# graph for all calculated values\n",
        "\n",
        "pylab.plot(distances, hf_energies, label='Hartree-Fock')\n",
        "for j in range(len(algorithms)):\n",
        "    pylab.plot(distances, energies[j], label=algorithms[j])\n",
        "pylab.xlabel('Interatomic distance')\n",
        "pylab.ylabel('Energy')\n",
        "pylab.title('H2 Ground State Energy')\n",
        "pylab.legend(loc='upper right');"
      ],
      "execution_count": 32,
      "outputs": [
        {
          "output_type": "display_data",
          "data": {
            "image/png": "[encoded data removed]",
            "text/plain": [
              "<Figure size 432x288 with 1 Axes>"
            ]
          },
          "metadata": {
            "tags": []
          }
        }
      ]
    },
    {
      "cell_type": "code",
      "metadata": {
        "id": "hhhHUHCeHJkR",
        "colab_type": "code",
        "colab": {
          "base_uri": "https://localhost:8080/",
          "height": 295
        },
        "outputId": "57d0dd9e-d00e-4c8a-f40a-2058ef901bc6"
      },
      "source": [
        "# graph comparing the difference between calculated values from the exact eigensolver and the 2 other algorithms\n",
        "\n",
        "pylab.plot(distances, np.subtract(hf_energies, energies[1]), label='Hartree-Fock')\n",
        "pylab.plot(distances, np.subtract(energies[0], energies[1]), label='VQE')\n",
        "pylab.xlabel('Interatomic distance')\n",
        "pylab.ylabel('Energy')\n",
        "pylab.title('Energy difference from ExactEigensolver')\n",
        "pylab.legend(loc='upper left');"
      ],
      "execution_count": 33,
      "outputs": [
        {
          "output_type": "display_data",
          "data": {
            "image/png": "[encoded data removed]",
            "text/plain": [
              "<Figure size 432x288 with 1 Axes>"
            ]
          },
          "metadata": {
            "tags": []
          }
        }
      ]
    },
    {
      "cell_type": "markdown",
      "metadata": {
        "id": "5XVgbDVLydUT",
        "colab_type": "text"
      },
      "source": [
        "**And that's it!** Visit IBM's Qiskit community tutorials for more examples of VQEs applied for different molecules!\n",
        "\n",
        "Link: https://github.com/Qiskit/qiskit-community-tutorials/blob/master/chemistry"
      ]
    }
  ]
}
